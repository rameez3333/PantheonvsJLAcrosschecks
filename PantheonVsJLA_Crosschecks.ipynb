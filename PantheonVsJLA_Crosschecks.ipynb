{
 "cells": [
  {
   "cell_type": "code",
   "execution_count": 22,
   "metadata": {
    "collapsed": true
   },
   "outputs": [],
   "source": [
    "import numpy as np\n",
    "%matplotlib inline\n",
    "import matplotlib.pyplot as plt\n",
    "import glob\n",
    "import pyfits\n",
    "from collections import OrderedDict\n",
    "from astropy.coordinates import SkyCoord\n",
    "import healpy as hp\n",
    "from astropy import units as u"
   ]
  },
  {
   "cell_type": "code",
   "execution_count": 14,
   "metadata": {
    "collapsed": false
   },
   "outputs": [],
   "source": [
    "\n",
    "#Find this file at : https://github.com/dscolnic/Pantheon/blob/master/lcparam_full_long_zhel.txt\n",
    "panarr = np.genfromtxt('Pantheon/lcparam_full_long_zhel.txt', skip_header=1)\n",
    "pannames = np.asarray([k.split()[0] for k in open('Pantheon/lcparam_full_long_zhel.txt').readlines()[1:]])\n",
    "\n",
    "#And this one at https://github.com/cmbant/CosmoMC/blob/master/data/jla_lcparams.txt\n",
    "#Or download from http://supernovae.in2p3.fr/sdss_snls_jla/ReadMe.html\n",
    "jlarr = np.genfromtxt('jla_likelihood_v6/data/jla_lcparams.txt', skip_header=1)\n",
    "jlnames = np.asarray([k.split()[0] for k in open('jla_likelihood_v6/data/jla_lcparams.txt').readlines()[1:]])\n",
    "plines = open('Pantheon/lcparam_full_long_zhel.txt').readlines()[1:]"
   ]
  },
  {
   "cell_type": "code",
   "execution_count": 15,
   "metadata": {
    "collapsed": true
   },
   "outputs": [],
   "source": [
    "jlnamesn = np.asarray([k.replace('sn', '').replace('SDSS','') for k in jlnames])#Because pantheon names dont seem to have these prefixes. You can verify they're still the same SN, by comparing the directions"
   ]
  },
  {
   "cell_type": "code",
   "execution_count": 16,
   "metadata": {
    "collapsed": false
   },
   "outputs": [],
   "source": [
    "zhdiffs=OrderedDict()\n",
    "panzs = OrderedDict()\n",
    "jlzs = OrderedDict()\n",
    "jlras = OrderedDict()\n",
    "jldecs = OrderedDict()\n",
    "for i in range(len(jlnamesn)):\n",
    "    #print jlnamesn[i], pannames[pannames==jlnamesn[i]]\n",
    "    if jlnamesn[i] in pannames:\n",
    "        #print jlarr.transpose()[2][i], panarr.transpose()[2][pannames==jlnamesn[i]]\n",
    "        zhdiffs[jlnamesn[i]] = np.absolute(jlarr.transpose()[2][i] - panarr.transpose()[2][pannames==jlnamesn[i]][0])#the difference between pantheon and jla redshifts (zhel)\n",
    "        panzs[jlnamesn[i]] = panarr.transpose()[2][pannames==jlnamesn[i]][0]#pantheon zhel\n",
    "        jlras[jlnamesn[i]] = jlarr.transpose()[18][i]\n",
    "        jldecs[jlnamesn[i]] = jlarr.transpose()[19][i]\n",
    "        jlzs[jlnamesn[i]] = jlarr.transpose()[2][i]#jla redshifts\n",
    "        "
   ]
  },
  {
   "cell_type": "code",
   "execution_count": 18,
   "metadata": {
    "collapsed": false
   },
   "outputs": [],
   "source": [
    "#make everything into numpy arrays\n",
    "jnn = np.asarray(zhdiffs.keys())\n",
    "jnzd = np.asarray(zhdiffs.values())\n",
    "jlzarr = np.asarray(jlzs.values())\n",
    "panzarr = np.asarray(panzs.values())\n",
    "jlraarr = np.asarray(jlras.values())\n",
    "jldecarr = np.asarray(jldecs.values())"
   ]
  },
  {
   "cell_type": "code",
   "execution_count": 8,
   "metadata": {
    "collapsed": false
   },
   "outputs": [
    {
     "name": "stdout",
     "output_type": "stream",
     "text": [
      "SDSS12881 &  0.233  &  12881 &  0.237838  &  0.004838  &  9.676 $\\sigma$ \\\\\n",
      "SDSS12927 &  0.175  &  12927 &  0.189638  &  0.014638  &  29.276 $\\sigma$ \\\\\n",
      "SDSS13044 &  0.121  &  13044 &  0.125735  &  0.004735  &  9.47 $\\sigma$ \\\\\n",
      "SDSS13136 &  0.366  &  13136 &  0.371627  &  0.005627  &  11.254 $\\sigma$ \\\\\n",
      "SDSS13152 &  0.207  &  13152 &  0.203311  &  0.003689  &  7.378 $\\sigma$ \\\\\n",
      "SDSS13305 &  0.201  &  13305 &  0.214557  &  0.013557  &  27.114 $\\sigma$ \\\\\n",
      "SDSS13727 &  0.221  &  13727 &  0.226402  &  0.005402  &  10.804 $\\sigma$ \\\\\n",
      "SDSS13796 &  0.145  &  13796 &  0.148518  &  0.003518  &  7.036 $\\sigma$ \\\\\n",
      "SDSS14261 &  0.281  &  14261 &  0.285517  &  0.004517  &  9.034 $\\sigma$ \\\\\n",
      "SDSS14331 &  0.214  &  14331 &  0.220905  &  0.006905  &  13.81 $\\sigma$ \\\\\n",
      "SDSS14397 &  0.371  &  14397 &  0.386084  &  0.015084  &  30.168 $\\sigma$ \\\\\n",
      "SDSS14437 &  0.144  &  14437 &  0.149098  &  0.005098  &  10.196 $\\sigma$ \\\\\n",
      "SDSS14481 &  0.255  &  14481 &  0.243249  &  0.011751  &  23.502 $\\sigma$ \\\\\n",
      "SDSS15057 &  0.299  &  15057 &  0.246586  &  0.052414  &  104.828 $\\sigma$ \\\\\n",
      "SDSS15203 &  0.216  &  15203 &  0.204218  &  0.011782  &  23.564 $\\sigma$ \\\\\n",
      "SDSS15287 &  0.274  &  15287 &  0.237419  &  0.036581  &  73.162 $\\sigma$ \\\\\n",
      "SDSS15301 &  0.248  &  15301 &  0.17963  &  0.06837  &  136.74 $\\sigma$ \\\\\n",
      "SDSS15365 &  0.178  &  15365 &  0.187733  &  0.009733  &  19.466 $\\sigma$ \\\\\n",
      "SDSS15383 &  0.312  &  15383 &  0.315791  &  0.003791  &  7.582 $\\sigma$ \\\\\n",
      "SDSS15440 &  0.253  &  15440 &  0.262051  &  0.009051  &  18.102 $\\sigma$ \\\\\n",
      "SDSS15461 &  0.18  &  15461 &  0.185954  &  0.005954  &  11.908 $\\sigma$ \\\\\n",
      "SDSS15704 &  0.365  &  15704 &  0.370275  &  0.005275  &  10.55 $\\sigma$ \\\\\n",
      "SDSS15868 &  0.242  &  15868 &  0.250516  &  0.008516  &  17.032 $\\sigma$ \\\\\n",
      "SDSS15872 &  0.203  &  15872 &  0.20629  &  0.00329  &  6.58 $\\sigma$ \\\\\n",
      "SDSS15897 &  0.17  &  15897 &  0.174692  &  0.004692  &  9.384 $\\sigma$ \\\\\n",
      "SDSS15901 &  0.199  &  15901 &  0.204563  &  0.005563  &  11.126 $\\sigma$ \\\\\n",
      "SDSS16072 &  0.277  &  16072 &  0.285523  &  0.008523  &  17.046 $\\sigma$ \\\\\n",
      "SDSS16073 &  0.146  &  16073 &  0.154541  &  0.008541  &  17.082 $\\sigma$ \\\\\n",
      "SDSS16116 &  0.15  &  16116 &  0.156305  &  0.006305  &  12.61 $\\sigma$ \\\\\n",
      "SDSS16185 &  0.097  &  16185 &  0.101255  &  0.004255  &  8.51 $\\sigma$ \\\\\n",
      "SDSS16206 &  0.152  &  16206 &  0.15954  &  0.00754  &  15.08 $\\sigma$ \\\\\n",
      "SDSS16232 &  0.367  &  16232 &  0.37532  &  0.00832  &  16.64 $\\sigma$ \\\\\n",
      "SDSS17220 &  0.172  &  17220 &  0.178821  &  0.006821  &  13.642 $\\sigma$ \\\\\n",
      "SDSS17552 &  0.25  &  17552 &  0.253014  &  0.003014  &  6.028 $\\sigma$ \\\\\n",
      "SDSS17809 &  0.282  &  17809 &  0.288624  &  0.006624  &  13.248 $\\sigma$ \\\\\n",
      "SDSS18325 &  0.255  &  18325 &  0.258369  &  0.003369  &  6.738 $\\sigma$ \\\\\n",
      "SDSS18602 &  0.135  &  18602 &  0.138175  &  0.003175  &  6.35 $\\sigma$ \\\\\n",
      "SDSS18617 &  0.322  &  18617 &  0.326919  &  0.004919  &  9.838 $\\sigma$ \\\\\n",
      "SDSS18721 &  0.393  &  18721 &  0.402456  &  0.009456  &  18.912 $\\sigma$ \\\\\n",
      "SDSS18740 &  0.157  &  18740 &  0.154249  &  0.002751  &  5.502 $\\sigma$ \\\\\n",
      "SDSS18787 &  0.193  &  18787 &  0.190054  &  0.002946  &  5.892 $\\sigma$ \\\\\n",
      "SDSS18804 &  0.192  &  18804 &  0.198237  &  0.006237  &  12.474 $\\sigma$ \\\\\n",
      "SDSS18940 &  0.22  &  18940 &  0.212127  &  0.007873  &  15.746 $\\sigma$ \\\\\n",
      "SDSS19002 &  0.268  &  19002 &  0.27081  &  0.00281  &  5.62 $\\sigma$ \\\\\n",
      "SDSS19027 &  0.295  &  19027 &  0.2923  &  0.0027  &  5.4 $\\sigma$ \\\\\n",
      "SDSS19341 &  0.228  &  19341 &  0.236507  &  0.008507  &  17.014 $\\sigma$ \\\\\n",
      "SDSS19632 &  0.308  &  19632 &  0.314512  &  0.006512  &  13.024 $\\sigma$ \\\\\n",
      "SDSS19818 &  0.293  &  19818 &  0.304775  &  0.011775  &  23.55 $\\sigma$ \\\\\n",
      "SDSS19953 &  0.119  &  19953 &  0.123087  &  0.004087  &  8.174 $\\sigma$ \\\\\n",
      "SDSS19990 &  0.246  &  19990 &  0.24967  &  0.00367  &  7.34 $\\sigma$ \\\\\n",
      "SDSS20040 &  0.285  &  20040 &  0.287713  &  0.002713  &  5.426 $\\sigma$ \\\\\n",
      "SDSS20048 &  0.182  &  20048 &  0.185096  &  0.003096  &  6.192 $\\sigma$ \\\\\n",
      "SDSS20084 &  0.131  &  20084 &  0.139557  &  0.008557  &  17.114 $\\sigma$ \\\\\n",
      "SDSS20227 &  0.284  &  20227 &  0.276958  &  0.007042  &  14.084 $\\sigma$ \\\\\n",
      "SDSS20364 &  0.215  &  20364 &  0.218249  &  0.003249  &  6.498 $\\sigma$ \\\\\n",
      "SDSS21062 &  0.147  &  21062 &  0.13848  &  0.00852  &  17.04 $\\sigma$ \\\\\n",
      "SDSS1997dg &  0.0308  &  1997dg &  0.03396  &  0.00316  &  6.32 $\\sigma$ \\\\\n",
      "SDSS2006oa &  0.06255  &  2006oa &  0.059931  &  0.002619  &  5.238 $\\sigma$ \\\\\n"
     ]
    }
   ],
   "source": [
    "#print jnn[jnzd>0.0025]\n",
    "#print len(jnn[jnzd>0.0025])\n",
    "#Generate the rows of tables 1 and 2 in the arxiv note. Note that the last 2 rows have to be treated differently (prefix sn instead of SDSS)\n",
    "for snn, zd, jlz, panz in zip(jnn[jnzd>0.0025], jnzd[jnzd>0.0025], jlzarr[jnzd>0.0025], panzarr[jnzd>0.0025]):\n",
    "    #print snn, zd, jlz, panz\n",
    "    print 'SDSS'+snn + ' & ', str(jlz),' & ', snn + ' & ', str(panz), ' & ', str(zd), ' & ', str(zd/0.0005) + ' $\\sigma$ \\\\\\\\' "
   ]
  },
  {
   "cell_type": "code",
   "execution_count": 23,
   "metadata": {
    "collapsed": false
   },
   "outputs": [],
   "source": [
    "#Now let's see where in the sky these sources are\n",
    "\n",
    "def plot_oneset(ax, RA,Dec,org=0,title='Mollweide projection', projection='mollweide', color='red', size=2.0, marker='o', fillstyle='full', line=False, alpha=0.8):\n",
    "    x = np.remainder(RA+360-org,360) # shift RA values\n",
    "    ind = x>180\n",
    "    x[ind] -=360    # scale conversion to [-180, 180]\n",
    "    x=-x    # reverse the scale: East to the left\n",
    "    if not line:\n",
    "        ax.scatter(np.radians(x),np.radians(Dec), alpha=alpha, s=size, color=color, marker=marker)\n",
    "    else:\n",
    "        ax.plot(np.radians(x),np.radians(Dec), alpha=0.8, color=color, lw=2, ls='--')\n",
    "\n",
    "def EquatorialtoGalactic(ra, dec):\n",
    "    skc = SkyCoord(ra = ra*u.degree, dec =dec*u.degree)\n",
    "    return skc.galactic.l.value, skc.galactic.b.value\n",
    "\n",
    "ls, bs = EquatorialtoGalactic(jlraarr, jldecarr)\n",
    "\n",
    "CMBdipra = 168.0\n",
    "CMBdipdec = -7.0\n",
    "SMAC2ra = 147.3 # 200h^-1 bulk flow, 372+/-127\n",
    "SMAC2dec = -46.0\n",
    "TwoMppra = 194.802\n",
    "TwoMppdec = -56.855\n",
    "\n",
    "CMBdipl, CMBdipb = EquatorialtoGalactic(CMBdipra, CMBdipdec)\n",
    "SMAC2l, SMAC2b = EquatorialtoGalactic(SMAC2ra, SMAC2dec)\n",
    "TwoMppl, TwoMppb = EquatorialtoGalactic(TwoMppra, TwoMppdec)\n"
   ]
  },
  {
   "cell_type": "code",
   "execution_count": 30,
   "metadata": {
    "collapsed": false
   },
   "outputs": [
    {
     "data": {
      "image/png": "[encoded data removed]",
      "text/plain": [
       "<matplotlib.figure.Figure at 0x7f4005b1dd50>"
      ]
     },
     "metadata": {},
     "output_type": "display_data"
    }
   ],
   "source": [
    "tick_labels = np.array([150, 120, 90, 60, 30, 0, 330, 300, 270, 240, 210])\n",
    "org = 0\n",
    "tick_labels = np.remainder(tick_labels+360+org,360)\n",
    "fig = plt.figure(figsize=(10, 5))\n",
    "ax = fig.add_subplot(111, projection='mollweide', axisbg ='LightCyan')\n",
    "\n",
    "plot_oneset(ax, ls[jnzd>0.0025], bs[jnzd>0.0025], color='red', size=3.0)\n",
    "plot_oneset(ax, np.asarray([CMBdipl]), np.asarray([CMBdipb]), color='gray', marker='*', size=100, fillstyle='none')\n",
    "plot_oneset(ax, np.asarray([SMAC2l]), np.asarray([SMAC2b]), color='gray', marker='^', size=100, fillstyle='none')\n",
    "plot_oneset(ax, np.asarray([TwoMppl]), np.asarray([TwoMppb]), color='gray', marker='v', size=100, fillstyle='none')\n",
    "ax.set_xticklabels(tick_labels)     # we add the scale on the x axis\n",
    "#ax.set_title(title)\n",
    "#ax.title.set_fontsize(15)\n",
    "ax.set_xlabel(\"l\")\n",
    "ax.xaxis.label.set_fontsize(12)\n",
    "ax.set_ylabel(\"b\")\n",
    "ax.yaxis.label.set_fontsize(12)\n",
    "ax.grid(True, which='both')"
   ]
  },
  {
   "cell_type": "code",
   "execution_count": null,
   "metadata": {
    "collapsed": true
   },
   "outputs": [],
   "source": []
  },
  {
   "cell_type": "code",
   "execution_count": null,
   "metadata": {
    "collapsed": false
   },
   "outputs": [],
   "source": [
    "plt.hist(np.log10(zhdiffs.values()), bins=np.linspace(-6, +6, 20))\n",
    "plt.show()"
   ]
  },
  {
   "cell_type": "code",
   "execution_count": null,
   "metadata": {
    "collapsed": true
   },
   "outputs": [],
   "source": []
  },
  {
   "cell_type": "code",
   "execution_count": null,
   "metadata": {
    "collapsed": false
   },
   "outputs": [],
   "source": [
    "for jn in jlnamesn:\n",
    "    print jn\n",
    "    if jn in pannames:\n",
    "        print 'in Pantheon'\n",
    "        "
   ]
  },
  {
   "cell_type": "code",
   "execution_count": null,
   "metadata": {
    "collapsed": true
   },
   "outputs": [],
   "source": []
  },
  {
   "cell_type": "code",
   "execution_count": null,
   "metadata": {
    "collapsed": true
   },
   "outputs": [],
   "source": []
  }
 ],
 "metadata": {
  "kernelspec": {
   "display_name": "Python 2",
   "language": "python",
   "name": "python2"
  },
  "language_info": {
   "codemirror_mode": {
    "name": "ipython",
    "version": 2
   },
   "file_extension": ".py",
   "mimetype": "text/x-python",
   "name": "python",
   "nbconvert_exporter": "python",
   "pygments_lexer": "ipython2",
   "version": "2.7.10"
  }
 },
 "nbformat": 4,
 "nbformat_minor": 0
}
