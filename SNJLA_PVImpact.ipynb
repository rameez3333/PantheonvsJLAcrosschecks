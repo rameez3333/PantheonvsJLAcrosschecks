{
 "cells": [
  {
   "cell_type": "code",
   "execution_count": 34,
   "metadata": {
    "collapsed": true
   },
   "outputs": [],
   "source": [
    "#This is basically just the code from https://zenodo.org/record/34487, set up to integrate the FLRW luminosity distances numerically\n",
    "\n",
    "import numpy as np\n",
    "from scipy import interpolate, linalg, optimize, integrate\n",
    "from optparse import OptionParser\n",
    "import sys\n",
    "from collections import OrderedDict\n",
    "import pickle\n",
    "import time"
   ]
  },
  {
   "cell_type": "code",
   "execution_count": 35,
   "metadata": {
    "collapsed": true
   },
   "outputs": [],
   "source": [
    "c = 299792.458 # km/s\n",
    "H0 = 70 #(km/s) / Mpc\n",
    "\n",
    "N=740 ; # Number of SNe\n",
    "\n"
   ]
  },
  {
   "cell_type": "code",
   "execution_count": 66,
   "metadata": {
    "collapsed": true
   },
   "outputs": [],
   "source": [
    "DET=4 \n",
    "REVB = False #reverse the pecuiar velocity and other corrections to mB?"
   ]
  },
  {
   "cell_type": "code",
   "execution_count": 67,
   "metadata": {
    "collapsed": false
   },
   "outputs": [],
   "source": [
    "#Get this data from https://zenodo.org/record/34487 and https://github.com/cmbant/CosmoMC/blob/master/data/jla_lcparams.txt\n",
    "Z = np.load( 'Dipole_JLA/SNMLE/JLA.npy' )\n",
    "jlarr = np.genfromtxt('Dipole_JLA/jla_likelihood_v6/data/jla_lcparams.txt', skip_header=1)\n",
    "ZHEL = jlarr.transpose()[2]\n",
    "ZCMB = jlarr.transpose()[1]\n",
    "if REVB:\n",
    "    Z[:,1] = Z[:,1] - jlarr[:,-1]\n",
    "COVd = np.load( 'Dipole_JLA/SNMLE/covmat/stat.npy' )\n",
    "for i in [ \"cal\", \"model\", \"bias\", \"dust\", \"sigmaz\", \"sigmalens\", \"nonia\" ]:#\"pecvel\" is excluded\n",
    "#Notice the lack of \"host\" covariances - we don't include the mass-step correction.\n",
    "        COVd += np.load( 'Dipole_JLA/SNMLE/covmat/'+i+'.npy' )"
   ]
  },
  {
   "cell_type": "code",
   "execution_count": 38,
   "metadata": {
    "collapsed": true
   },
   "outputs": [],
   "source": [
    "def S(Zc, OM, OL, Zh=None):\n",
    "    OK = 1.-OM-OL\n",
    "    def I(z):\n",
    "        return 1./np.sqrt(OM * (1. + z) ** 3. + OL + OK * (1. + z) ** 2.)\n",
    "    if OK == 0:\n",
    "        integ = integrate.quad(I, 0, Zc)[0]\n",
    "    elif OK > 0:\n",
    "        integ = (1. / OK) ** (0.5) * np.sinh(integrate.quad(I, 0, Zc)[0] * OK ** (0.5))\n",
    "    elif OK < 0:\n",
    "        integ = (1. / -OK) ** (0.5) * np.sin(integrate.quad(I, 0, Zc)[0] * (-OK) ** (0.5))\n",
    "    if Zh is not None:\n",
    "        return (1.+Zh)*integ\n",
    "    return (1.+Zc)*integ"
   ]
  },
  {
   "cell_type": "code",
   "execution_count": 39,
   "metadata": {
    "collapsed": true
   },
   "outputs": [],
   "source": [
    "def dLZ(Zc, OM, OL, Zh=None):\n",
    "    if Zh is not None:\n",
    "        return np.hstack([S(zc, OM, OL, zh) for zc, zh in zip(Zc, Zh)])\n",
    "    return np.hstack([S(z, OM, OL) for z in Zc])\n",
    "\n",
    "def MU( OM, OL ):\n",
    "        return 5*np.log10( c/H0 * dL(OM,OL) ) + 25.\n",
    "\n",
    "def MUZ(Zc, OM, OL, Zh=None):\n",
    "        k = 5.*np.log10( c/H0 * dLZ(Zc, OM,OL, Zh) ) + 25.   \n",
    "        if np.any(np.isnan(k)):\n",
    "                print 'Fuck', OM, OL\n",
    "                k[np.isnan(k)] = 63.15861331456834\n",
    "        return k\n"
   ]
  },
  {
   "cell_type": "code",
   "execution_count": 40,
   "metadata": {
    "collapsed": false
   },
   "outputs": [],
   "source": [
    "def COV( A , B , VM, VX, VC , RV=0): # Total covariance matrix\n",
    "        block3 = np.array( [[VM + VX*A**2 + VC*B**2,    -VX*A, VC*B],\n",
    "                                                                                                 [-VX*A , VX, 0],\n",
    "                                                                                                 [ VC*B ,  0, VC]] )\n",
    "        ATCOVlA = linalg.block_diag( *[ block3 for i in range(N) ] ) ;\n",
    "        \n",
    "        if RV==0:\n",
    "                return np.array( COVd + ATCOVlA );\n",
    "        elif RV==1:\n",
    "                return np.array( COVd );\n",
    "        elif RV==2:\n",
    "                return np.array( ATCOVlA );\n",
    "\n",
    "def RES( OM, OL , A , B , M0, X0, C0 ): #Total residual, \\hat Z - Y_0*A\n",
    "        Y0A = np.array([ M0-A*X0+B*C0, X0, C0 ])\n",
    "        if DET==1:\n",
    "                mu = MUZ(Z[:,0], OM, OL)\n",
    "        elif DET==2:\n",
    "                mu = MUZ(ZCMB, OM, OL)\n",
    "        elif DET==3:\n",
    "                mu = MUZ(ZCMB, OM, OL, ZHEL)\n",
    "        elif DET==4:\n",
    "                mu = MUZ(ZHEL, OM, OL)   \n",
    "        return np.hstack( [ (Z[i,1:4] -np.array([mu[i],0,0]) - Y0A ) for i in range(N) ] )  "
   ]
  },
  {
   "cell_type": "code",
   "execution_count": 41,
   "metadata": {
    "collapsed": true
   },
   "outputs": [],
   "source": [
    "def m2loglike(pars , RV = 0):\n",
    "        if RV != 0 and RV != 1 and RV != 2:\n",
    "                raise ValueError('Inappropriate RV value')\n",
    "        else:\n",
    "                cov = COV( *[ pars[i] for i in [2,5,9,4,7] ] )\n",
    "                try:\n",
    "                        chol_fac = linalg.cho_factor(cov, overwrite_a = True, lower = True ) \n",
    "                except np.linalg.linalg.LinAlgError: # If not positive definite\n",
    "                        return +13993*10.**20 \n",
    "                except ValueError: # If contains infinity\n",
    "                        return 13995*10.**20\n",
    "                res = RES( *[ pars[i] for i in [0,1,2,5,8,3,6] ] )\n",
    "\n",
    "                #Dont throw away the logPI part.\n",
    "                part_log = 3*N*np.log(2*np.pi) + np.sum( np.log( np.diag( chol_fac[0] ) ) ) * 2\n",
    "                part_exp = np.dot( res, linalg.cho_solve( chol_fac, res) )\n",
    "\n",
    "                if pars[0]<0 or pars[0]>1.5 or pars[1]<-.50 or pars[1]>1.5 \\\n",
    "                        or pars[4]<0 or pars[7]<0 or pars[9]<0:\n",
    "                        part_exp += 100* np.sum(np.array([ _**2 for _ in pars ]))\n",
    "                        # if outside valid region, give penalty\n",
    "\n",
    "                if RV==0:\n",
    "                        m2loglike = part_log + part_exp\n",
    "                        return m2loglike \n",
    "                elif RV==1: \n",
    "                        return part_exp \n",
    "                elif RV==2:\n",
    "                        return part_log "
   ]
  },
  {
   "cell_type": "code",
   "execution_count": 42,
   "metadata": {
    "collapsed": true
   },
   "outputs": [],
   "source": [
    "bounds = ( (0,1.5),(-0.5,1.5),\n",
    "                        (None,None),(None,None),(0,None),\n",
    "                        (None,None),(None,None),(0,None),\n",
    "                        (None,None),(0,None) )"
   ]
  },
  {
   "cell_type": "code",
   "execution_count": 50,
   "metadata": {
    "collapsed": true
   },
   "outputs": [],
   "source": [
    "#Just initial guess values taken from Nielsen at al 2015 code, not the actual results of this code\n",
    "pre_found_best = np.array([  3.40658319e-01,   5.68558786e-01,   1.34469382e-01,\n",
    "                                                         3.84466029e-02,   8.67848219e-01,   3.05861386e+00,\n",
    "                                                         -1.59939791e-02,   5.04364259e-03,  -1.90515806e+01,\n",
    "                                                  1.17007078e-02])\n",
    "\n",
    "pre_found_noacc = np.array([  6.84438318e-02,   3.42219159e-02,   1.32357422e-01,\n",
    "                                                         3.26703396e-02,   8.67993385e-01,   3.04503841e+00,\n",
    "                                                         -1.33181840e-02,   5.04076126e-03,  -1.90062602e+01,\n",
    "                                                  1.19991540e-02])\n",
    "\n",
    "bnds = ( (0,1.5),(-0.5,1.5),\n",
    "                        (None,None),(None,None),(0,None),\n",
    "                        (None,None),(None,None),(0,None),\n",
    "                        (None,None),(0,None) )"
   ]
  },
  {
   "cell_type": "code",
   "execution_count": 68,
   "metadata": {
    "collapsed": false
   },
   "outputs": [],
   "source": [
    "MLE = optimize.minimize(m2loglike, pre_found_best, method = 'SLSQP', tol=10**-10, bounds=bnds)"
   ]
  },
  {
   "cell_type": "code",
   "execution_count": 69,
   "metadata": {
    "collapsed": false
   },
   "outputs": [
    {
     "name": "stdout",
     "output_type": "stream",
     "text": [
      "  status: 0\n",
      " success: True\n",
      "    njev: 18\n",
      "    nfev: 271\n",
      "     fun: -196.62233478820235\n",
      "       x: array([  2.70420434e-01,   4.28716546e-01,   1.33381307e-01,\n",
      "         3.98337439e-02,   8.68214059e-01,   3.02611640e+00,\n",
      "        -1.46107935e-02,   5.06379117e-03,  -1.90409420e+01,\n",
      "         1.24246508e-02])\n",
      " message: 'Optimization terminated successfully.'\n",
      "     jac: array([  2.44140625e-04,   3.05175781e-05,   1.37329102e-03,\n",
      "        -3.05175781e-05,  -1.22070312e-04,  -3.05175781e-05,\n",
      "        -7.93457031e-04,   1.58691406e-03,   1.83105469e-04,\n",
      "         4.57763672e-04,   0.00000000e+00])\n",
      "     nit: 18\n"
     ]
    }
   ],
   "source": [
    "print MLE"
   ]
  },
  {
   "cell_type": "code",
   "execution_count": 70,
   "metadata": {
    "collapsed": true
   },
   "outputs": [],
   "source": [
    "# Constraint fucntions for fits (constraint is func == 0\n",
    "def m2NOacc( pars ):\n",
    "        return pars[0]/2. - pars[1]"
   ]
  },
  {
   "cell_type": "code",
   "execution_count": 71,
   "metadata": {
    "collapsed": false
   },
   "outputs": [],
   "source": [
    "MLENoAcc = optimize.minimize(m2loglike, pre_found_best, method = 'SLSQP', constraints = ({'type':'eq', 'fun':m2NOacc}, ), tol=10**-10, bounds=bnds)"
   ]
  },
  {
   "cell_type": "code",
   "execution_count": 72,
   "metadata": {
    "collapsed": false
   },
   "outputs": [
    {
     "name": "stdout",
     "output_type": "stream",
     "text": [
      "  status: 0\n",
      " success: True\n",
      "    njev: 22\n",
      "    nfev: 311\n",
      "     fun: -191.09883702929301\n",
      "       x: array([  6.82592692e-02,   3.41296346e-02,   1.31877774e-01,\n",
      "         3.56324170e-02,   8.68286376e-01,   3.01232872e+00,\n",
      "        -1.27422151e-02,   5.05905975e-03,  -1.90079222e+01,\n",
      "         1.26310455e-02])\n",
      " message: 'Optimization terminated successfully.'\n",
      "     jac: array([  1.77066345e+01,  -3.54137878e+01,   0.00000000e+00,\n",
      "        -3.05175781e-05,  -9.15527344e-05,   3.05175781e-05,\n",
      "         3.05175781e-05,  -4.57763672e-04,   3.05175781e-05,\n",
      "         4.57763672e-04,   0.00000000e+00])\n",
      "     nit: 22\n"
     ]
    }
   ],
   "source": [
    "print MLENoAcc"
   ]
  },
  {
   "cell_type": "code",
   "execution_count": null,
   "metadata": {
    "collapsed": true
   },
   "outputs": [],
   "source": [
    "#note that the best -2llh values are worse than those reported in NGS 2015. But this is to be expected since the error budget is different (pecvel covariances are excluded), as well as the data. Can two fits with different data and error budgets be compared for goodness of fit? https://iopscience.iop.org/article/10.1086/518808/meta seem to think you can, and this forms the basis of the idea that peculiar velocities can just be corrected away.  "
   ]
  },
  {
   "cell_type": "code",
   "execution_count": 73,
   "metadata": {
    "collapsed": false
   },
   "outputs": [
    {
     "data": {
      "text/plain": [
       "u'/lustre/hpc/icecube/mrameez/WDIR/JupyterHome'"
      ]
     },
     "execution_count": 73,
     "metadata": {},
     "output_type": "execute_result"
    }
   ],
   "source": []
  },
  {
   "cell_type": "code",
   "execution_count": null,
   "metadata": {
    "collapsed": true
   },
   "outputs": [],
   "source": []
  }
 ],
 "metadata": {
  "kernelspec": {
   "display_name": "Python 2",
   "language": "python",
   "name": "python2"
  },
  "language_info": {
   "codemirror_mode": {
    "name": "ipython",
    "version": 2
   },
   "file_extension": ".py",
   "mimetype": "text/x-python",
   "name": "python",
   "nbconvert_exporter": "python",
   "pygments_lexer": "ipython2",
   "version": "2.7.10"
  }
 },
 "nbformat": 4,
 "nbformat_minor": 0
}
